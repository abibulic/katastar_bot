{
 "cells": [
  {
   "cell_type": "code",
   "execution_count": 5,
   "metadata": {},
   "outputs": [],
   "source": [
    "import os\n",
    "import numpy as np\n",
    "import pandas as pd\n",
    "import matplotlib.pyplot as plt"
   ]
  },
  {
   "cell_type": "code",
   "execution_count": 6,
   "metadata": {},
   "outputs": [],
   "source": [
    "def list_files(root_dir, ext='.txt'):\n",
    "    file_list = []\n",
    "    for root, dirs, files in os.walk(root_dir):\n",
    "        for file in files:\n",
    "            if file.endswith(ext):\n",
    "                file_list.append(os.path.join(root, file).replace(\"\\\\\",\"/\"))\n",
    "    return file_list"
   ]
  },
  {
   "cell_type": "code",
   "execution_count": 7,
   "metadata": {},
   "outputs": [],
   "source": [
    "file_path = 'D:/WORK/PROJECTS/katastar_bot/data/dataframes/'"
   ]
  },
  {
   "cell_type": "code",
   "execution_count": 10,
   "metadata": {},
   "outputs": [],
   "source": [
    "data = pd.read_csv(f'{file_path}all_data.txt',\n",
    "               names=[\n",
    "                    'kat_op', #'Katastarska općina',\n",
    "                    'kat_num', #Broj katastarske čestice',\n",
    "                    'kat_adresa', #'Adresa katastarske čestice',\n",
    "                    'kat_area', #'Površina katastarske čestice/m2',\n",
    "                    'vlas_list', #'Posjedovni list',\n",
    "                    'uporaba', #'Način uporabe i zgrade + Površina/m2',\n",
    "                    'names' #'Posjedovni list + Udio + Ime i prezime/Naziv + Adresa'\n",
    "                   ],sep=';', encoding='ansi')"
   ]
  },
  {
   "cell_type": "code",
   "execution_count": 16,
   "metadata": {},
   "outputs": [],
   "source": [
    "data2 = data.drop_duplicates()"
   ]
  },
  {
   "cell_type": "code",
   "execution_count": 17,
   "metadata": {},
   "outputs": [
    {
     "data": {
      "text/plain": [
       "62120"
      ]
     },
     "execution_count": 17,
     "metadata": {},
     "output_type": "execute_result"
    }
   ],
   "source": [
    "len(data2)"
   ]
  },
  {
   "cell_type": "code",
   "execution_count": 22,
   "metadata": {},
   "outputs": [
    {
     "data": {
      "text/html": [
       "<div>\n",
       "<style scoped>\n",
       "    .dataframe tbody tr th:only-of-type {\n",
       "        vertical-align: middle;\n",
       "    }\n",
       "\n",
       "    .dataframe tbody tr th {\n",
       "        vertical-align: top;\n",
       "    }\n",
       "\n",
       "    .dataframe thead th {\n",
       "        text-align: right;\n",
       "    }\n",
       "</style>\n",
       "<table border=\"1\" class=\"dataframe\">\n",
       "  <thead>\n",
       "    <tr style=\"text-align: right;\">\n",
       "      <th></th>\n",
       "      <th>kat_op</th>\n",
       "      <th>kat_num</th>\n",
       "      <th>kat_adresa</th>\n",
       "      <th>kat_area</th>\n",
       "      <th>vlas_list</th>\n",
       "      <th>uporaba</th>\n",
       "      <th>names</th>\n",
       "    </tr>\n",
       "  </thead>\n",
       "  <tbody>\n",
       "    <tr>\n",
       "      <th>0</th>\n",
       "      <td>335584, PODSUSED</td>\n",
       "      <td>898</td>\n",
       "      <td>BLAGOJE BERSE</td>\n",
       "      <td>497</td>\n",
       "      <td>260</td>\n",
       "      <td>KUĆA BR.2 I ZGRADA, Zagreb, Ulica Blagoje Bers...</td>\n",
       "      <td>260, 1/1 , IVAN ČRNJEVIĆ , Ulica Blagoje Berse...</td>\n",
       "    </tr>\n",
       "    <tr>\n",
       "      <th>1</th>\n",
       "      <td>335584, PODSUSED</td>\n",
       "      <td>897</td>\n",
       "      <td>ULICA BLAGOJE BERSE</td>\n",
       "      <td>1070</td>\n",
       "      <td>525</td>\n",
       "      <td>GARAŽA,46,STAMBENA ZGRADA, Zagreb, Ulica Blago...</td>\n",
       "      <td>525, 1/1 , BOŽICA IVIČEVIĆ BAKULIĆ , Ulica Bla...</td>\n",
       "    </tr>\n",
       "    <tr>\n",
       "      <th>2</th>\n",
       "      <td>335584, PODSUSED</td>\n",
       "      <td>894</td>\n",
       "      <td>BLAGOJA BERSE</td>\n",
       "      <td>996</td>\n",
       "      <td>1523</td>\n",
       "      <td>ULICA,996</td>\n",
       "      <td>1523, 1/1 , JAVNO DOBRO PUTEVI , ZAGREB, BB</td>\n",
       "    </tr>\n",
       "    <tr>\n",
       "      <th>3</th>\n",
       "      <td>335584, PODSUSED</td>\n",
       "      <td>885/2</td>\n",
       "      <td>VINOBREŠKA</td>\n",
       "      <td>846</td>\n",
       "      <td>644</td>\n",
       "      <td>KUĆA BR.11, Zagreb, Vinobreška ulica 11,114,DV...</td>\n",
       "      <td>644, 3/4 , STJEPAN KAPUĐIJA , Vinobreška ulica...</td>\n",
       "    </tr>\n",
       "    <tr>\n",
       "      <th>4</th>\n",
       "      <td>335584, PODSUSED</td>\n",
       "      <td>862</td>\n",
       "      <td>VINOBREŠKA</td>\n",
       "      <td>2684</td>\n",
       "      <td>1523</td>\n",
       "      <td>ULICA,2684</td>\n",
       "      <td>1523, 1/1 , JAVNO DOBRO PUTEVI , ZAGREB, BB</td>\n",
       "    </tr>\n",
       "    <tr>\n",
       "      <th>...</th>\n",
       "      <td>...</td>\n",
       "      <td>...</td>\n",
       "      <td>...</td>\n",
       "      <td>...</td>\n",
       "      <td>...</td>\n",
       "      <td>...</td>\n",
       "      <td>...</td>\n",
       "    </tr>\n",
       "    <tr>\n",
       "      <th>62115</th>\n",
       "      <td>335371, BLATO</td>\n",
       "      <td>3854</td>\n",
       "      <td>NALETILIĆA DR.LUJE</td>\n",
       "      <td>1081</td>\n",
       "      <td>316</td>\n",
       "      <td>DVORIŠNA ZGRADA,100,KUĆA, Zagreb, Ulica dr. Lu...</td>\n",
       "      <td>316, 1/1 , JELKA FABEČIĆ , Ulica dr. Luje Nale...</td>\n",
       "    </tr>\n",
       "    <tr>\n",
       "      <th>62116</th>\n",
       "      <td>335371, BLATO</td>\n",
       "      <td>4211/16</td>\n",
       "      <td>BOTINEČKE DUŽICE</td>\n",
       "      <td>194</td>\n",
       "      <td>1786</td>\n",
       "      <td>KUĆA BR 12, Zagreb, Botinečke dužice 12,60,DVO...</td>\n",
       "      <td>1786, 1/1 , GRAD ZAGREB , Trg Stjepana Radića ...</td>\n",
       "    </tr>\n",
       "    <tr>\n",
       "      <th>62117</th>\n",
       "      <td>335371, BLATO</td>\n",
       "      <td>4217/5</td>\n",
       "      <td>ĐUKE BEGOVIĆA</td>\n",
       "      <td>186</td>\n",
       "      <td>10502</td>\n",
       "      <td>POMOĆNA ZGRADA,21,KUĆA, Zagreb, Ulica Đuke Beg...</td>\n",
       "      <td>10502, 1/1 , Martina Tolić , Zadvorska ulica 2...</td>\n",
       "    </tr>\n",
       "    <tr>\n",
       "      <th>62118</th>\n",
       "      <td>335371, BLATO</td>\n",
       "      <td>4239/1</td>\n",
       "      <td>VELOGA JOŽE</td>\n",
       "      <td>168</td>\n",
       "      <td>878</td>\n",
       "      <td>KUĆA BR.1, Zagreb, Ulica Velog Jože 1,80,DVORI...</td>\n",
       "      <td>878, 1/1 , Antonija Lugarić , Ulica Velog Jože...</td>\n",
       "    </tr>\n",
       "    <tr>\n",
       "      <th>62119</th>\n",
       "      <td>335371, BLATO</td>\n",
       "      <td>4240/5</td>\n",
       "      <td>BOTINEČKA ULICA</td>\n",
       "      <td>390</td>\n",
       "      <td>1717</td>\n",
       "      <td>KUĆA, Zagreb, Botinečka ulica 30,72,DVORIŠTE,318</td>\n",
       "      <td>1717, 1/1 , MARIO BEKAVAC , Botinečka ulica 30...</td>\n",
       "    </tr>\n",
       "  </tbody>\n",
       "</table>\n",
       "<p>62120 rows × 7 columns</p>\n",
       "</div>"
      ],
      "text/plain": [
       "                 kat_op  kat_num           kat_adresa  kat_area vlas_list  \\\n",
       "0      335584, PODSUSED      898        BLAGOJE BERSE       497       260   \n",
       "1      335584, PODSUSED      897  ULICA BLAGOJE BERSE      1070       525   \n",
       "2      335584, PODSUSED      894        BLAGOJA BERSE       996      1523   \n",
       "3      335584, PODSUSED    885/2           VINOBREŠKA       846       644   \n",
       "4      335584, PODSUSED      862           VINOBREŠKA      2684      1523   \n",
       "...                 ...      ...                  ...       ...       ...   \n",
       "62115     335371, BLATO     3854   NALETILIĆA DR.LUJE      1081       316   \n",
       "62116     335371, BLATO  4211/16     BOTINEČKE DUŽICE       194      1786   \n",
       "62117     335371, BLATO   4217/5        ĐUKE BEGOVIĆA       186     10502   \n",
       "62118     335371, BLATO   4239/1          VELOGA JOŽE       168       878   \n",
       "62119     335371, BLATO   4240/5      BOTINEČKA ULICA       390      1717   \n",
       "\n",
       "                                                 uporaba  \\\n",
       "0      KUĆA BR.2 I ZGRADA, Zagreb, Ulica Blagoje Bers...   \n",
       "1      GARAŽA,46,STAMBENA ZGRADA, Zagreb, Ulica Blago...   \n",
       "2                                              ULICA,996   \n",
       "3      KUĆA BR.11, Zagreb, Vinobreška ulica 11,114,DV...   \n",
       "4                                             ULICA,2684   \n",
       "...                                                  ...   \n",
       "62115  DVORIŠNA ZGRADA,100,KUĆA, Zagreb, Ulica dr. Lu...   \n",
       "62116  KUĆA BR 12, Zagreb, Botinečke dužice 12,60,DVO...   \n",
       "62117  POMOĆNA ZGRADA,21,KUĆA, Zagreb, Ulica Đuke Beg...   \n",
       "62118  KUĆA BR.1, Zagreb, Ulica Velog Jože 1,80,DVORI...   \n",
       "62119   KUĆA, Zagreb, Botinečka ulica 30,72,DVORIŠTE,318   \n",
       "\n",
       "                                                   names  \n",
       "0      260, 1/1 , IVAN ČRNJEVIĆ , Ulica Blagoje Berse...  \n",
       "1      525, 1/1 , BOŽICA IVIČEVIĆ BAKULIĆ , Ulica Bla...  \n",
       "2           1523, 1/1 , JAVNO DOBRO PUTEVI , ZAGREB, BB   \n",
       "3      644, 3/4 , STJEPAN KAPUĐIJA , Vinobreška ulica...  \n",
       "4           1523, 1/1 , JAVNO DOBRO PUTEVI , ZAGREB, BB   \n",
       "...                                                  ...  \n",
       "62115  316, 1/1 , JELKA FABEČIĆ , Ulica dr. Luje Nale...  \n",
       "62116  1786, 1/1 , GRAD ZAGREB , Trg Stjepana Radića ...  \n",
       "62117  10502, 1/1 , Martina Tolić , Zadvorska ulica 2...  \n",
       "62118  878, 1/1 , Antonija Lugarić , Ulica Velog Jože...  \n",
       "62119  1717, 1/1 , MARIO BEKAVAC , Botinečka ulica 30...  \n",
       "\n",
       "[62120 rows x 7 columns]"
      ]
     },
     "execution_count": 22,
     "metadata": {},
     "output_type": "execute_result"
    }
   ],
   "source": [
    "data2.reset_index(drop=True)"
   ]
  },
  {
   "cell_type": "code",
   "execution_count": 28,
   "metadata": {},
   "outputs": [
    {
     "data": {
      "text/plain": [
       "'260, 1/1 , IVAN ČRNJEVIĆ , Ulica Blagoje Berse 2, 10000 Zagreb, Hrvatska '"
      ]
     },
     "execution_count": 28,
     "metadata": {},
     "output_type": "execute_result"
    }
   ],
   "source": [
    "data2['names'][0]"
   ]
  },
  {
   "cell_type": "code",
   "execution_count": null,
   "metadata": {},
   "outputs": [],
   "source": []
  }
 ],
 "metadata": {
  "kernelspec": {
   "display_name": "Python 3",
   "language": "python",
   "name": "python3"
  },
  "language_info": {
   "codemirror_mode": {
    "name": "ipython",
    "version": 3
   },
   "file_extension": ".py",
   "mimetype": "text/x-python",
   "name": "python",
   "nbconvert_exporter": "python",
   "pygments_lexer": "ipython3",
   "version": "3.7.7"
  }
 },
 "nbformat": 4,
 "nbformat_minor": 4
}
